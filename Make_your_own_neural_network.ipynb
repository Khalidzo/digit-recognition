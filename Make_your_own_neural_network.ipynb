{
  "nbformat": 4,
  "nbformat_minor": 0,
  "metadata": {
    "colab": {
      "provenance": [],
      "authorship_tag": "ABX9TyM6r1XY1lkrmP4ABdr6gq+b",
      "include_colab_link": true
    },
    "kernelspec": {
      "name": "python3",
      "display_name": "Python 3"
    },
    "language_info": {
      "name": "python"
    }
  },
  "cells": [
    {
      "cell_type": "markdown",
      "metadata": {
        "id": "view-in-github",
        "colab_type": "text"
      },
      "source": [
        "<a href=\"https://colab.research.google.com/github/Khalidzo/digit-recognition/blob/main/Make_your_own_neural_network.ipynb\" target=\"_parent\"><img src=\"https://colab.research.google.com/assets/colab-badge.svg\" alt=\"Open In Colab\"/></a>"
      ]
    },
    {
      "cell_type": "code",
      "source": [
        "import numpy"
      ],
      "metadata": {
        "id": "9dGxbpUzCGcM"
      },
      "execution_count": 16,
      "outputs": []
    },
    {
      "cell_type": "code",
      "execution_count": 17,
      "metadata": {
        "id": "u6FfcuXTtLAq"
      },
      "outputs": [],
      "source": [
        "class neuralNetwork:\n",
        "  def __init__(self, input, hidden, output, learning_rate):\n",
        "    self.input = input\n",
        "    self.hidden = hidden\n",
        "    self.output = output\n",
        "\n",
        "    self.lr = learning_rate\n",
        "\n",
        "    # NN layers\n",
        "    self.wih = numpy.random.rand(self.hidden, self.input) - 0.5\n",
        "    self.who = numpy.random.rand(self.output, self.hidden) - 0.5\n",
        "\n",
        "  def train():\n",
        "    pass\n",
        "\n",
        "  def query():\n",
        "    pass"
      ]
    },
    {
      "cell_type": "code",
      "source": [
        "# layers\n",
        "input_nodes = 3\n",
        "hidden_nodes = 3\n",
        "output_nodes = 3\n",
        "\n",
        "# set learning rate\n",
        "learning_rate = 0.3\n",
        "\n",
        "# instantiate the NN\n",
        "n = neuralNetwork(input_nodes, hidden_nodes, output_nodes, learning_rate)"
      ],
      "metadata": {
        "id": "D_9dE2wouOGj"
      },
      "execution_count": 18,
      "outputs": []
    },
    {
      "cell_type": "code",
      "source": [
        "print(n.wih)"
      ],
      "metadata": {
        "colab": {
          "base_uri": "https://localhost:8080/"
        },
        "id": "KnQiq-QK1YL4",
        "outputId": "0e3e29b2-c049-426d-ce83-a76fda994991"
      },
      "execution_count": 19,
      "outputs": [
        {
          "output_type": "stream",
          "name": "stdout",
          "text": [
            "[[ 0.31557495 -0.30516457 -0.31664893]\n",
            " [-0.04181107 -0.1359757   0.44619595]\n",
            " [-0.03175868 -0.01131925 -0.42418611]]\n"
          ]
        }
      ]
    },
    {
      "cell_type": "code",
      "source": [
        "print(n.who)"
      ],
      "metadata": {
        "colab": {
          "base_uri": "https://localhost:8080/"
        },
        "id": "BlekR7cwE3rg",
        "outputId": "7b2271fb-f91d-473f-dfae-2d18808cce01"
      },
      "execution_count": 20,
      "outputs": [
        {
          "output_type": "stream",
          "name": "stdout",
          "text": [
            "[[ 0.49147519  0.42661145 -0.01954162]\n",
            " [-0.39264356  0.28865613 -0.23801401]\n",
            " [-0.47335686 -0.48010728  0.33178601]]\n"
          ]
        }
      ]
    },
    {
      "cell_type": "code",
      "source": [],
      "metadata": {
        "id": "UutdMvkWE557"
      },
      "execution_count": null,
      "outputs": []
    }
  ]
}