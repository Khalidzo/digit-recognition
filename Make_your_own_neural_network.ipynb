{
  "nbformat": 4,
  "nbformat_minor": 0,
  "metadata": {
    "colab": {
      "provenance": [],
      "authorship_tag": "ABX9TyOtdIrYvZiuuRUa0mDNfGJe",
      "include_colab_link": true
    },
    "kernelspec": {
      "name": "python3",
      "display_name": "Python 3"
    },
    "language_info": {
      "name": "python"
    }
  },
  "cells": [
    {
      "cell_type": "markdown",
      "metadata": {
        "id": "view-in-github",
        "colab_type": "text"
      },
      "source": [
        "<a href=\"https://colab.research.google.com/github/Khalidzo/digit-recognition/blob/main/Make_your_own_neural_network.ipynb\" target=\"_parent\"><img src=\"https://colab.research.google.com/assets/colab-badge.svg\" alt=\"Open In Colab\"/></a>"
      ]
    },
    {
      "cell_type": "code",
      "execution_count": 2,
      "metadata": {
        "id": "u6FfcuXTtLAq"
      },
      "outputs": [],
      "source": [
        "class neuralNetwork:\n",
        "  def __init__(self, input, hidden, output, learning_rate):\n",
        "    self.input = input\n",
        "    self.hidden = hidden\n",
        "    self.output = output\n",
        "\n",
        "    self.lr = learning_rate\n",
        "\n",
        "  def train():\n",
        "    pass\n",
        "\n",
        "  def query():\n",
        "    pass"
      ]
    },
    {
      "cell_type": "code",
      "source": [
        "# layers\n",
        "input_nodes = 3\n",
        "hidden_nodes = 3\n",
        "output_node = 3"
      ],
      "metadata": {
        "id": "D_9dE2wouOGj"
      },
      "execution_count": null,
      "outputs": []
    },
    {
      "cell_type": "code",
      "source": [],
      "metadata": {
        "id": "KnQiq-QK1YL4"
      },
      "execution_count": null,
      "outputs": []
    }
  ]
}