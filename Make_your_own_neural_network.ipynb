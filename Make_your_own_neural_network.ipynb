{
  "nbformat": 4,
  "nbformat_minor": 0,
  "metadata": {
    "colab": {
      "provenance": []
    },
    "kernelspec": {
      "name": "python3",
      "display_name": "Python 3"
    },
    "language_info": {
      "name": "python"
    }
  },
  "cells": [
    {
      "cell_type": "code",
      "source": [
        "import numpy\n",
        "import scipy.special"
      ],
      "metadata": {
        "id": "9dGxbpUzCGcM"
      },
      "execution_count": 1,
      "outputs": []
    },
    {
      "cell_type": "code",
      "execution_count": 2,
      "metadata": {
        "id": "u6FfcuXTtLAq"
      },
      "outputs": [],
      "source": [
        "class neuralNetwork:\n",
        "  def __init__(self, input, hidden, output, learning_rate):\n",
        "    # NN dimensions\n",
        "    self.input = input\n",
        "    self.hidden = hidden\n",
        "    self.output = output\n",
        "\n",
        "    # define learning_rate\n",
        "    self.lr = learning_rate\n",
        "\n",
        "    # initialize weights\n",
        "    self.wih = numpy.random.rand(self.hidden, self.input) - 0.5\n",
        "    self.who = numpy.random.rand(self.output, self.hidden) - 0.5\n",
        "\n",
        "    # output function\n",
        "    self.activation_function = lambda x: scipy.special.expit(x)\n",
        "\n",
        "  def train():\n",
        "    pass\n",
        "\n",
        "  def query(self, input_list):\n",
        "    # convert input to 2D array\n",
        "    inputs = numpy.array(input_list, ndmin=2).T\n",
        "\n",
        "    # feed input to the hidden layer\n",
        "    hidden_inputs = numpy.dot(self.wih, input)\n",
        "    hidden_outputs = self.activation_function(hidden_inputs)\n",
        "\n",
        "    # feed input to the output(final) layer\n",
        "    final_inputs = numpy.dot(self.who, hidden_outputs)\n",
        "    final_outputs = self.activation_function(final_outputs)\n",
        "\n",
        "    return final_outputs"
      ]
    },
    {
      "cell_type": "code",
      "source": [
        "# layers\n",
        "input_nodes = 3\n",
        "hidden_nodes = 3\n",
        "output_nodes = 3\n",
        "\n",
        "# set learning rate\n",
        "learning_rate = 0.3\n",
        "\n",
        "# instantiate the NN\n",
        "n = neuralNetwork(input_nodes, hidden_nodes, output_nodes, learning_rate)"
      ],
      "metadata": {
        "id": "D_9dE2wouOGj"
      },
      "execution_count": 3,
      "outputs": []
    },
    {
      "cell_type": "code",
      "source": [],
      "metadata": {
        "id": "tpAfP3OKDCtr"
      },
      "execution_count": null,
      "outputs": []
    }
  ]
}