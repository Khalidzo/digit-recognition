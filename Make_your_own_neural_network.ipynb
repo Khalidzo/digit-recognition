{
  "nbformat": 4,
  "nbformat_minor": 0,
  "metadata": {
    "colab": {
      "provenance": [],
      "include_colab_link": true
    },
    "kernelspec": {
      "name": "python3",
      "display_name": "Python 3"
    },
    "language_info": {
      "name": "python"
    }
  },
  "cells": [
    {
      "cell_type": "markdown",
      "metadata": {
        "id": "view-in-github",
        "colab_type": "text"
      },
      "source": [
        "<a href=\"https://colab.research.google.com/github/Khalidzo/digit-recognition/blob/main/Make_your_own_neural_network.ipynb\" target=\"_parent\"><img src=\"https://colab.research.google.com/assets/colab-badge.svg\" alt=\"Open In Colab\"/></a>"
      ]
    },
    {
      "cell_type": "code",
      "source": [
        "import numpy as np\n",
        "import scipy.special\n",
        "import matplotlib.pyplot as plt"
      ],
      "metadata": {
        "id": "9dGxbpUzCGcM"
      },
      "execution_count": 1,
      "outputs": []
    },
    {
      "cell_type": "code",
      "source": [
        "%matplotlib inline"
      ],
      "metadata": {
        "id": "DoyWGqseEa_-"
      },
      "execution_count": 2,
      "outputs": []
    },
    {
      "cell_type": "code",
      "execution_count": 3,
      "metadata": {
        "id": "u6FfcuXTtLAq"
      },
      "outputs": [],
      "source": [
        "class neuralNetwork:\n",
        "  def __init__(self, input, hidden, output, learning_rate):\n",
        "      # NN dimensions\n",
        "      self.input = input\n",
        "      self.hidden = hidden\n",
        "      self.output = output\n",
        "\n",
        "      # define learning_rate\n",
        "      self.lr = learning_rate\n",
        "\n",
        "      # trivial weights random initialization\n",
        "      #self.wih = np.random.rand(self.hidden, self.input) - 0.5\n",
        "      #self.who = np.random.rand(self.output, self.hidden) - 0.5\n",
        "\n",
        "      # normal dist initalization\n",
        "      self.wih = np.random.normal(0.0, pow(self.input, -0.5), (self.hidden, self.input))\n",
        "      self.who = np.random.normal(0.0, pow(self.hidden, -0.5), (self.output, self.hidden))\n",
        "\n",
        "\n",
        "      # output function\n",
        "      self.activation_function = lambda x: scipy.special.expit(x)\n",
        "\n",
        "  def train(self, inputs_list, targets_list):\n",
        "      inputs = np.array(inputs_list, ndmin=2).T\n",
        "      targets = np.array(targets_list, ndmin=2).T\n",
        "\n",
        "      # feed input to the hidden layer\n",
        "      hidden_inputs = np.dot(self.wih, inputs)\n",
        "      hidden_outputs = self.activation_function(hidden_inputs)\n",
        "\n",
        "      # feed input to the output(final) layer\n",
        "      final_inputs = np.dot(self.who, hidden_outputs)\n",
        "      final_outputs = self.activation_function(final_inputs)\n",
        "\n",
        "      # calculate error\n",
        "      output_errors = targets - final_outputs\n",
        "      hidden_errors = np.dot(self.who.T, output_errors)\n",
        "\n",
        "      # update the weights\n",
        "      self.who += self.lr * np.dot((output_errors * final_outputs * (1.0 - final_outputs)), np.transpose(hidden_outputs))\n",
        "      self.wih += self.lr * np.dot((hidden_errors * hidden_outputs * (1.0 - hidden_outputs)), np.transpose(inputs))\n",
        "\n",
        "  def query(self, inputs_list):\n",
        "      # convert input to 2D array\n",
        "      inputs = np.array(inputs_list, ndmin=2).T\n",
        "\n",
        "      # feed input to the hidden layer\n",
        "      hidden_inputs = np.dot(self.wih, inputs)\n",
        "      hidden_outputs = self.activation_function(hidden_inputs)\n",
        "\n",
        "      # feed input to the output(final) layer\n",
        "      final_inputs = np.dot(self.who, hidden_outputs)\n",
        "      final_outputs = self.activation_function(final_inputs)\n",
        "\n",
        "      return final_outputs"
      ]
    },
    {
      "cell_type": "code",
      "source": [
        "data_file = open('/content/mnist_dataset/mnist_test_10.csv', 'r')\n",
        "data_list = data_file.readlines()\n",
        "data_file.close()"
      ],
      "metadata": {
        "id": "vs1UBIAbEdaP"
      },
      "execution_count": 4,
      "outputs": []
    },
    {
      "cell_type": "code",
      "source": [
        "all_values = data_list[2].split(',')\n",
        "image_array = np.asfarray(all_values[1:]).reshape((28,28))\n",
        "plt.imshow(image_array, cmap='Greys', interpolation='None')"
      ],
      "metadata": {
        "colab": {
          "base_uri": "https://localhost:8080/",
          "height": 447
        },
        "id": "12aNkawoGHPt",
        "outputId": "c3a96d62-d908-484f-f84f-5f6eb5559a1d"
      },
      "execution_count": 5,
      "outputs": [
        {
          "output_type": "execute_result",
          "data": {
            "text/plain": [
              "<matplotlib.image.AxesImage at 0x7e53c10e17e0>"
            ]
          },
          "metadata": {},
          "execution_count": 5
        },
        {
          "output_type": "display_data",
          "data": {
            "text/plain": [
              "<Figure size 640x480 with 1 Axes>"
            ],
            "image/png": "[encoded data removed]"
          },
          "metadata": {}
        }
      ]
    },
    {
      "cell_type": "code",
      "source": [
        "scaled_input = (np.asfarray(all_values[1:]) / 255.0 * 0.99) + 0.01"
      ],
      "metadata": {
        "id": "8gribvecRWjt"
      },
      "execution_count": 6,
      "outputs": []
    },
    {
      "cell_type": "code",
      "source": [
        "# layers\n",
        "input_nodes = 784\n",
        "hidden_nodes = 100\n",
        "output_nodes = 10\n",
        "\n",
        "# set learning rate\n",
        "learning_rate = 0.3\n",
        "\n",
        "# instantiate the NN\n",
        "n = neuralNetwork(input_nodes, hidden_nodes, output_nodes, learning_rate)"
      ],
      "metadata": {
        "id": "D_9dE2wouOGj"
      },
      "execution_count": 7,
      "outputs": []
    },
    {
      "cell_type": "code",
      "source": [
        "# upload training data\n",
        "training_data_file = open('/content/mnist_dataset/mnist_train_100.csv')\n",
        "training_data_list = training_data_file.readlines()\n",
        "training_data_file.close()"
      ],
      "metadata": {
        "id": "ywpc02e4ePCK"
      },
      "execution_count": 8,
      "outputs": []
    },
    {
      "cell_type": "code",
      "source": [
        "# train the network\n",
        "epochs = 10\n",
        "\n",
        "for e in range(epochs):\n",
        "  for record in training_data_list:\n",
        "    all_values = record.split(',')\n",
        "    inputs = (np.asfarray(all_values[1:]) / 255.0 * 0.99) + 0.01\n",
        "\n",
        "    # initalize the output vector and offset 0.01\n",
        "    targets = np.zeros(output_nodes) + 0.01\n",
        "\n",
        "    # target output\n",
        "    targets[int(all_values[0])] = 0.99\n",
        "\n",
        "    # feed the neural network\n",
        "    n.train(inputs, targets)"
      ],
      "metadata": {
        "id": "Y7lvE-1_enAw"
      },
      "execution_count": 9,
      "outputs": []
    },
    {
      "cell_type": "code",
      "source": [
        "# load testing data\n",
        "test_data_file = open('/content/mnist_dataset/mnist_test_10.csv')\n",
        "test_data_list = test_data_file.readlines()\n",
        "test_data_file.close()"
      ],
      "metadata": {
        "id": "kCtJxiUDfoLT"
      },
      "execution_count": 10,
      "outputs": []
    },
    {
      "cell_type": "code",
      "source": [
        "# test the network with just one example\n",
        "all_values = test_data_list[0].split(',')\n",
        "print(all_values[0])"
      ],
      "metadata": {
        "colab": {
          "base_uri": "https://localhost:8080/"
        },
        "id": "Bo7uel4cj6wP",
        "outputId": "10b43669-00ad-4336-ae65-82bdeedba4e1"
      },
      "execution_count": 11,
      "outputs": [
        {
          "output_type": "stream",
          "name": "stdout",
          "text": [
            "7\n"
          ]
        }
      ]
    },
    {
      "cell_type": "code",
      "source": [
        "image_array = np.asfarray(all_values[1:]).reshape((28,28))\n",
        "plt.imshow(image_array, cmap='Greys', interpolation='None')"
      ],
      "metadata": {
        "colab": {
          "base_uri": "https://localhost:8080/",
          "height": 447
        },
        "id": "KCjY5K4GkQhK",
        "outputId": "05e23654-52d8-4784-9927-892fd6bd9c16"
      },
      "execution_count": 12,
      "outputs": [
        {
          "output_type": "execute_result",
          "data": {
            "text/plain": [
              "<matplotlib.image.AxesImage at 0x7e53c0b9c790>"
            ]
          },
          "metadata": {},
          "execution_count": 12
        },
        {
          "output_type": "display_data",
          "data": {
            "text/plain": [
              "<Figure size 640x480 with 1 Axes>"
            ],
            "image/png": "[encoded data removed]"
          },
          "metadata": {}
        }
      ]
    },
    {
      "cell_type": "code",
      "source": [
        "np.argmax(n.query((np.asfarray(all_values[1:]) / 255.0 * 0.99) + 0.1))"
      ],
      "metadata": {
        "colab": {
          "base_uri": "https://localhost:8080/"
        },
        "id": "argM_QpDlFdf",
        "outputId": "60068ffc-c4b9-431e-eeb6-85e298255cb5"
      },
      "execution_count": 13,
      "outputs": [
        {
          "output_type": "execute_result",
          "data": {
            "text/plain": [
              "7"
            ]
          },
          "metadata": {},
          "execution_count": 13
        }
      ]
    },
    {
      "cell_type": "code",
      "source": [
        "# test the neural network\n",
        "\n",
        "# scorecard for how well the network performs, initially empty\n",
        "scorecard = []\n",
        "\n",
        "# go through all the records in the test data set\n",
        "for record in test_data_list:\n",
        "    # split the record by the ',' commas\n",
        "    all_values = record.split(',')\n",
        "    # correct answer is first value\n",
        "    correct_label = int(all_values[0])\n",
        "    # scale and shift the inputs\n",
        "    inputs = (np.asfarray(all_values[1:]) / 255.0 * 0.99) + 0.01\n",
        "    # query the network\n",
        "    outputs = n.query(inputs)\n",
        "    # the index of the highest value corresponds to the label\n",
        "    label = np.argmax(outputs)\n",
        "    # append correct or incorrect to list\n",
        "    if (label == correct_label):\n",
        "        # network's answer matches correct answer, add 1 to scorecard\n",
        "        scorecard.append(1)\n",
        "    else:\n",
        "        # network's answer doesn't match correct answer, add 0 to scorecard\n",
        "        scorecard.append(0)\n",
        ""
      ],
      "metadata": {
        "id": "SEEsYQw8mX4Z"
      },
      "execution_count": 14,
      "outputs": []
    },
    {
      "cell_type": "code",
      "source": [
        "scorecard_array = np.asarray(scorecard)\n",
        "print (\"performance = \", scorecard_array.sum() / scorecard_array.size)"
      ],
      "metadata": {
        "colab": {
          "base_uri": "https://localhost:8080/"
        },
        "id": "R1b7LfhHnmwJ",
        "outputId": "94cd2633-3cef-46f0-e497-93e6062f722b"
      },
      "execution_count": 15,
      "outputs": [
        {
          "output_type": "stream",
          "name": "stdout",
          "text": [
            "performance =  0.6\n"
          ]
        }
      ]
    },
    {
      "cell_type": "code",
      "source": [],
      "metadata": {
        "id": "WddsCdOYnrBy"
      },
      "execution_count": null,
      "outputs": []
    }
  ]
}