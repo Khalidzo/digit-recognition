{
  "nbformat": 4,
  "nbformat_minor": 0,
  "metadata": {
    "colab": {
      "provenance": [],
      "include_colab_link": true
    },
    "kernelspec": {
      "name": "python3",
      "display_name": "Python 3"
    },
    "language_info": {
      "name": "python"
    }
  },
  "cells": [
    {
      "cell_type": "markdown",
      "metadata": {
        "id": "view-in-github",
        "colab_type": "text"
      },
      "source": [
        "<a href=\"https://colab.research.google.com/github/Khalidzo/digit-recognition/blob/main/Make_your_own_neural_network.ipynb\" target=\"_parent\"><img src=\"https://colab.research.google.com/assets/colab-badge.svg\" alt=\"Open In Colab\"/></a>"
      ]
    },
    {
      "cell_type": "code",
      "source": [
        "import numpy as np\n",
        "import scipy.special\n",
        "import matplotlib.pyplot as plt"
      ],
      "metadata": {
        "id": "9dGxbpUzCGcM"
      },
      "execution_count": 1,
      "outputs": []
    },
    {
      "cell_type": "code",
      "source": [
        "%matplotlib inline"
      ],
      "metadata": {
        "id": "DoyWGqseEa_-"
      },
      "execution_count": 2,
      "outputs": []
    },
    {
      "cell_type": "code",
      "execution_count": 3,
      "metadata": {
        "id": "u6FfcuXTtLAq"
      },
      "outputs": [],
      "source": [
        "class neuralNetwork:\n",
        "  def __init__(self, input, hidden, output, learning_rate):\n",
        "      # NN dimensions\n",
        "      self.input = input\n",
        "      self.hidden = hidden\n",
        "      self.output = output\n",
        "\n",
        "      # define learning_rate\n",
        "      self.lr = learning_rate\n",
        "\n",
        "      # initialize weights\n",
        "      self.wih = np.random.rand(self.hidden, self.input) - 0.5\n",
        "      self.who = np.random.rand(self.output, self.hidden) - 0.5\n",
        "\n",
        "      # output function\n",
        "      self.activation_function = lambda x: scipy.special.expit(x)\n",
        "\n",
        "  def train(self, inputs_list, targets_list):\n",
        "      inputs = np.array(input_list, ndmin=2).T\n",
        "      targets = np.array(input_list, ndmin=2).T\n",
        "\n",
        "      # feed input to the hidden layer\n",
        "      hidden_inputs = np.dot(self.wih, inputs)\n",
        "      hidden_outputs = self.activation_function(hidden_inputs)\n",
        "\n",
        "      # feed input to the output(final) layer\n",
        "      final_inputs = np.dot(self.who, hidden_outputs)\n",
        "      final_outputs = self.activation_function(final_inputs)\n",
        "\n",
        "      # calculate error\n",
        "      output_errors = targets - final_outputs\n",
        "      hidden_errors = np.dot(self.who.T, output_errors)\n",
        "\n",
        "      # update the weights\n",
        "      self.who += self.lr * np.dot((output_errors * final_outputs * (1.0 - final_outputs)), np.transpose(hidden_outputs))\n",
        "      self.wih += self.lr * np.dot((hidden_errors * hidden_outputs * (1.0 - hidden_outputs)), np.transpose(hidden_outputs))\n",
        "\n",
        "  def query(self, inputs_list):\n",
        "      # convert input to 2D array\n",
        "      inputs = np.array(inputs_list, ndmin=2).T\n",
        "\n",
        "      # feed input to the hidden layer\n",
        "      hidden_inputs = np.dot(self.wih, inputs)\n",
        "      hidden_outputs = self.activation_function(hidden_inputs)\n",
        "\n",
        "      # feed input to the output(final) layer\n",
        "      final_inputs = np.dot(self.who, hidden_outputs)\n",
        "      final_outputs = self.activation_function(final_inputs)\n",
        "\n",
        "      return final_outputs"
      ]
    },
    {
      "cell_type": "code",
      "source": [
        "data_file = open('/content/mnist_dataset/mnist_test_10.csv', 'r')\n",
        "data_list = data_file.readlines()\n",
        "data_file.close()"
      ],
      "metadata": {
        "id": "vs1UBIAbEdaP"
      },
      "execution_count": 4,
      "outputs": []
    },
    {
      "cell_type": "code",
      "source": [
        "all_values = data_list[2].split(',')\n",
        "image_array = np.asfarray(all_values[1:]).reshape((28,28))\n",
        "plt.imshow(image_array, cmap='Greys', interpolation='None')"
      ],
      "metadata": {
        "id": "12aNkawoGHPt",
        "outputId": "d3bed381-ff1e-4794-f0b9-bceb803c7d7e",
        "colab": {
          "base_uri": "https://localhost:8080/",
          "height": 447
        }
      },
      "execution_count": 5,
      "outputs": [
        {
          "output_type": "execute_result",
          "data": {
            "text/plain": [
              "<matplotlib.image.AxesImage at 0x78e45dcf5420>"
            ]
          },
          "metadata": {},
          "execution_count": 5
        },
        {
          "output_type": "display_data",
          "data": {
            "text/plain": [
              "<Figure size 640x480 with 1 Axes>"
            ],
            "image/png": "[encoded data removed]"
          },
          "metadata": {}
        }
      ]
    },
    {
      "cell_type": "code",
      "source": [
        "# layers\n",
        "input_nodes = 3\n",
        "hidden_nodes = 3\n",
        "output_nodes = 3\n",
        "\n",
        "# set learning rate\n",
        "learning_rate = 0.3\n",
        "\n",
        "# instantiate the NN\n",
        "n = neuralNetwork(input_nodes, hidden_nodes, output_nodes, learning_rate)"
      ],
      "metadata": {
        "id": "D_9dE2wouOGj"
      },
      "execution_count": 6,
      "outputs": []
    },
    {
      "cell_type": "code",
      "source": [
        "n.query([1.0, 0.5, -0.5])"
      ],
      "metadata": {
        "id": "C1LZaLFcEA9f",
        "outputId": "2c0c8ae5-88f5-446e-c15f-ece9b0b632fa",
        "colab": {
          "base_uri": "https://localhost:8080/"
        }
      },
      "execution_count": 7,
      "outputs": [
        {
          "output_type": "execute_result",
          "data": {
            "text/plain": [
              "array([[0.57435327],\n",
              "       [0.38932242],\n",
              "       [0.58436497]])"
            ]
          },
          "metadata": {},
          "execution_count": 7
        }
      ]
    }
  ]
}